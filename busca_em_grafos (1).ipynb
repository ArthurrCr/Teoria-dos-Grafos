{
  "nbformat": 4,
  "nbformat_minor": 0,
  "metadata": {
    "colab": {
      "provenance": [],
      "toc_visible": true
    },
    "kernelspec": {
      "name": "python3",
      "display_name": "Python 3"
    },
    "language_info": {
      "name": "python"
    }
  },
  "cells": [
    {
      "cell_type": "code",
      "source": [
        "import numpy as np"
      ],
      "metadata": {
        "id": "HAA_AkWDgr7B"
      },
      "execution_count": null,
      "outputs": []
    },
    {
      "cell_type": "code",
      "source": [
        "#TODO\n",
        "\n",
        "# Abre o arquivo \"grafo.txt\" em modo de leitura\n",
        "f = open(\"graph_4.txt\", \"r\")\n",
        "\n",
        "# Lê a primeira linha do arquivo para obter o número de vértices no grafo\n",
        "vertices = int(f.readline())\n",
        "\n",
        "# Cria a matriz de adjacencia a partir de grafos.txt\n",
        "matriz_adj  = np.loadtxt(\"graph_4.txt\", skiprows = 1, dtype = int)\n",
        "\n",
        "# Função para criar uma lista de adjacências a partir da matriz de adjacência do grafo\n",
        "def cria_list_adj(grafo):\n",
        "    list_adj = dict()\n",
        "\n",
        "    for i in range(vertices):\n",
        "        # Encontra os índices onde a matriz de adjacência possui valor 1 para o vértice i\n",
        "        adj_indices = np.where(grafo[i] == 1)[0]\n",
        "\n",
        "        # Converte os índices em uma lista de vértices adjacentes ao vértice i\n",
        "        adj_vertices = list(adj_indices)\n",
        "\n",
        "        list_adj[i] = adj_vertices\n",
        "\n",
        "    return list_adj\n",
        "\n",
        "# Chama a função para criar a lista de adjacências\n",
        "lista_adj = cria_list_adj(matriz_adj)"
      ],
      "metadata": {
        "id": "7ZE_STqmfdhb"
      },
      "execution_count": null,
      "outputs": []
    },
    {
      "cell_type": "code",
      "source": [
        "lista_adj"
      ],
      "metadata": {
        "colab": {
          "base_uri": "https://localhost:8080/"
        },
        "id": "Zth5Ms6ohGaI",
        "outputId": "ac15e3a2-c03f-4096-aba2-a93f84de4b8d"
      },
      "execution_count": null,
      "outputs": [
        {
          "output_type": "execute_result",
          "data": {
            "text/plain": [
              "{0: [1, 2, 7, 8, 9],\n",
              " 1: [0, 2, 6, 9],\n",
              " 2: [0, 1, 4, 5, 6, 7, 8],\n",
              " 3: [5, 7, 9],\n",
              " 4: [2, 5, 7, 8],\n",
              " 5: [2, 3, 4, 6, 8],\n",
              " 6: [1, 2, 5, 8, 9],\n",
              " 7: [0, 2, 3, 4, 8, 9],\n",
              " 8: [0, 2, 4, 5, 6, 7, 9],\n",
              " 9: [0, 1, 3, 6, 7, 8]}"
            ]
          },
          "metadata": {},
          "execution_count": 3
        }
      ]
    },
    {
      "cell_type": "code",
      "source": [
        "matriz_adj"
      ],
      "metadata": {
        "colab": {
          "base_uri": "https://localhost:8080/"
        },
        "id": "XynDBYquhL-I",
        "outputId": "a9c75b93-1cce-452e-eb4c-e465bfe2c730"
      },
      "execution_count": null,
      "outputs": [
        {
          "output_type": "execute_result",
          "data": {
            "text/plain": [
              "array([[0, 1, 1, 0, 0, 0, 0, 1, 1, 1],\n",
              "       [1, 0, 1, 0, 0, 0, 1, 0, 0, 1],\n",
              "       [1, 1, 0, 0, 1, 1, 1, 1, 1, 0],\n",
              "       [0, 0, 0, 0, 0, 1, 0, 1, 0, 1],\n",
              "       [0, 0, 1, 0, 0, 1, 0, 1, 1, 0],\n",
              "       [0, 0, 1, 1, 1, 0, 1, 0, 1, 0],\n",
              "       [0, 1, 1, 0, 0, 1, 0, 0, 1, 1],\n",
              "       [1, 0, 1, 1, 1, 0, 0, 0, 1, 1],\n",
              "       [1, 0, 1, 0, 1, 1, 1, 1, 0, 1],\n",
              "       [1, 1, 0, 1, 0, 0, 1, 1, 1, 0]])"
            ]
          },
          "metadata": {},
          "execution_count": 4
        }
      ]
    },
    {
      "cell_type": "code",
      "source": [
        "class Grafo:\n",
        "    def __init__(self, matriz_adj, lista_adj):\n",
        "        self.matriz_adj = matriz_adj\n",
        "        self.lista_adj = lista_adj\n",
        "        self.vertices = self.inicializar_vertices()\n",
        "        self.matriz_cor = self.inicializar_matriz_cor()\n",
        "        self.matriz_distancia = self.inicializar_matriz_distancia()\n",
        "        self.relogio = 0\n",
        "\n",
        "    def inicializar_vertices(self):\n",
        "      vertices = {}\n",
        "      num_vertices = len(self.matriz_adj)\n",
        "\n",
        "      for i in range(num_vertices):\n",
        "          vertices[i] = {\"visitado\": False, \"vizinhos\": self.lista_adj[i], \"pai\": None, \"irmãos\": [],\"primos\": [], \"tios\": [], \"retornos\": [] ,\"nivel\": None, \"exc\": 0}\n",
        "\n",
        "      return vertices\n",
        "\n",
        "    def inicializar_matriz_cor(self):\n",
        "        num_vertices = len(self.matriz_adj)\n",
        "        matriz_cor = [['branco' for j in range(num_vertices)] for i in range(num_vertices)]\n",
        "        return matriz_cor\n",
        "\n",
        "    def inicializar_matriz_distancia(self):\n",
        "        num_vertices = len(self.matriz_adj)\n",
        "        matriz_distancia = [[0 for j in range(num_vertices)] for i in range(num_vertices)]\n",
        "        return matriz_distancia\n",
        "\n",
        "    def busca_profundidade(self, vertice):\n",
        "        self.vertices[vertice][\"visitado\"] = True\n",
        "        #self.relogio += 1\n",
        "        #PE_vertice = self.relogio  # Entrada no vértice\n",
        "        for vizinho in self.vertices[vertice][\"vizinhos\"]:\n",
        "            if not self.vertices[vizinho][\"visitado\"]:\n",
        "                #print(f\"Visitar aresta {vertice} - {vizinho} (aresta azul da árvore de profundidade T)\")\n",
        "                self.vertices[vizinho][\"pai\"] = vertice\n",
        "                self.busca_profundidade(vizinho)\n",
        "            elif vizinho != self.vertices[vertice][\"pai\"]: # se o vizinho já foi visitado e não é o pai do vertice\n",
        "                self.vertices[vizinho][\"retornos\"].append(vertice) # adiciona o vertice como retorno do vizinho\n",
        "                #print(f\"Visitar aresta {vertice} - {vizinho} (aresta vermelha de retorno)\")\n",
        "\n",
        "        #self.relogio += 1\n",
        "        #PS_vertice = self.relogio  # Saída do vértice\n",
        "\n",
        "        #print(f\"Entrada ({PE_vertice}): PE({vertice}) -> N({vertice}) {self.vertices[vertice]['vizinhos']}\")\n",
        "        #print(f\"Saída ({PS_vertice}): PS({vertice}) -> N({vertice}) {self.vertices[vertice]['vizinhos']}\")\n",
        "\n",
        "    def busca_largura(self, vertice):\n",
        "      fila = [vertice]\n",
        "      self.vertices[vertice][\"visitado\"] = True\n",
        "      self.vertices[vertice][\"nivel\"] = 1\n",
        "      self.relogio += 1\n",
        "\n",
        "      while len(fila) != 0:\n",
        "          vertice = fila[0]\n",
        "          fila.pop(0)\n",
        "          for vizinho in self.vertices[vertice][\"vizinhos\"]:\n",
        "              if not self.vertices[vizinho][\"visitado\"]:\n",
        "                  self.vertices[vizinho][\"visitado\"] = True\n",
        "                  self.vertices[vizinho][\"pai\"] = vertice\n",
        "                  self.vertices[vizinho][\"nivel\"] = self.vertices[vertice][\"nivel\"] + 1\n",
        "                  self.relogio += 1\n",
        "                  #print(f\"Entrada ({self.relogio}): L({vertice}) ->N({vertice}) {self.lista_adj[vertice]}\")\n",
        "                  fila.append(vizinho)\n",
        "              else:  # Vizinho já visitado\n",
        "                  if self.vertices[vizinho][\"nivel\"] == self.vertices[vertice][\"nivel\"]:\n",
        "                      if self.vertices[vizinho][\"pai\"] == self.vertices[vertice][\"pai\"]:\n",
        "                          self.vertices[vizinho][\"irmãos\"].append(vertice)\n",
        "                      else:\n",
        "                          self.vertices[vizinho][\"primos\"].append(vertice)\n",
        "                  elif self.vertices[vizinho][\"nivel\"] == self.vertices[vertice][\"nivel\"] + 1:\n",
        "                      self.vertices[vizinho][\"tios\"].append(vertice)\n",
        "\n",
        "    def preencher_matriz_cor(self):\n",
        "        for vertice, conteudo in self.vertices.items():\n",
        "          for tio in conteudo[\"tios\"]: # para cada tio do meu vertice\n",
        "              self.matriz_cor[vertice][tio] = 'verde'\n",
        "              self.matriz_cor[tio][vertice] = 'verde'\n",
        "          for irmao in conteudo[\"irmãos\"]:\n",
        "              self.matriz_cor[vertice][irmao] = 'vermelho'\n",
        "              self.matriz_cor[irmao][vertice] = 'vermelho'\n",
        "          for primo in conteudo[\"primos\"]:\n",
        "              self.matriz_cor[vertice][primo] = 'amarelo'\n",
        "              self.matriz_cor[primo][vertice] = 'amarelo'\n",
        "          for retorno in conteudo[\"retornos\"]:\n",
        "              self.matriz_cor[vertice][retorno] = 'vermelho'\n",
        "              self.matriz_cor[retorno][vertice] = 'vermelho'\n",
        "          pai = conteudo[\"pai\"]\n",
        "          if pai is not None:\n",
        "              self.matriz_cor[vertice][pai] = 'azul'\n",
        "              self.matriz_cor[pai][vertice] = 'azul'\n",
        "\n",
        "    def distancia(self):\n",
        "        for i in range(len(self.matriz_adj)):\n",
        "          for j in range(len(self.matriz_adj)):\n",
        "              self.matriz_distancia[i][j] = abs(self.vertices[i][\"nivel\"] - self.vertices[j][\"nivel\"])\n",
        "              if self.matriz_distancia[i][j] > self.vertices[i][\"exc\"]:\n",
        "                self.vertices[i][\"exc\"] = self.matriz_distancia[i][j] #comprimento do maior menor caminho\n",
        "        #print(\"\\nMatriz de distancias:\\n\")\n",
        "        return self.matriz_distancia\n",
        "\n",
        "    def criar_arquivo_gdf(self, output_filename):\n",
        "        processed_edges = set()  # Conjunto de arestas processadas\n",
        "        with open(output_filename, 'w') as file:  # Abre o arquivo para escrita\n",
        "            file.write(\"nodedef>name VARCHAR,label VARCHAR\\n\")  # Define as colunas para nome e label\n",
        "            for vertice, data in self.vertices.items():  # Para cada vértice e seus dados\n",
        "                nome_vertice = f\"s{vertice}\"  # Nome do vértice\n",
        "                label = str(vertice+1)  # Rótulo do vértice sendo o número do vértice\n",
        "                file.write(f\"{nome_vertice},{label}\\n\")  # Escreve a linha do vértice no arquivo\n",
        "\n",
        "            file.write(\"edgedef>node1 VARCHAR,node2 VARCHAR,color VARCHAR\\n\")  # Escreve a segunda linha do arquivo\n",
        "            for vertice in range(len(self.matriz_adj)):  # Para cada vértice\n",
        "                for vizinho in self.vertices[vertice][\"vizinhos\"]:  # Para cada vizinho do vértice\n",
        "                    classification = self.matriz_cor[vertice][vizinho]  # Classificação da aresta\n",
        "\n",
        "                    if classification == 'vermelho':  # Se a classificação for vermelho\n",
        "                        color = '255,0,0'\n",
        "                    elif classification == 'azul':  # Se a classificação for azul\n",
        "                        color = '0,0,255'\n",
        "                    elif classification == 'amarelo':  # Se a classificação for amarelo\n",
        "                        color = '255,255,0'\n",
        "                    elif classification == 'verde':  # Se a classificação for verde\n",
        "                        color = '0,255,0'\n",
        "\n",
        "                    edge = (f\"s{vertice}\", f\"s{vizinho}\")  # Aresta\n",
        "                    reverse_edge = (f\"s{vizinho}\", f\"s{vertice}\")  # Aresta reversa\n",
        "\n",
        "                    if edge not in processed_edges and reverse_edge not in processed_edges: # evita arestas reversas pois não é direcionado\n",
        "                        file.write(f\"s{vertice},s{vizinho},'{color}'\\n\")  # Escreve a linha da aresta no arquivo\n",
        "                        processed_edges.add(edge)  # Adiciona a aresta no conjunto de arestas processadas\n",
        "\n"
      ],
      "metadata": {
        "id": "RCf8ZAGPCdDu"
      },
      "execution_count": null,
      "outputs": []
    },
    {
      "cell_type": "code",
      "source": [
        "grafo = Grafo(matriz_adj, lista_adj)\n",
        "grafo.busca_profundidade(0)\n",
        "grafo.preencher_matriz_cor()\n",
        "grafo.criar_arquivo_gdf(\"output.gdf\")"
      ],
      "metadata": {
        "id": "oi9IpLD0oj4_"
      },
      "execution_count": null,
      "outputs": []
    },
    {
      "cell_type": "code",
      "source": [
        "grafo = Grafo(matriz_adj, lista_adj)\n",
        "grafo.busca_largura(0)\n",
        "grafo.preencher_matriz_cor()\n",
        "grafo.criar_arquivo_gdf(\"output.gdf\")"
      ],
      "metadata": {
        "id": "kDQyfDcHCfi5"
      },
      "execution_count": null,
      "outputs": []
    },
    {
      "cell_type": "code",
      "source": [
        "def diametro_raio(exc):\n",
        "        diametro = 0\n",
        "        raio = len(exc)\n",
        "        for i in range(len(exc)):\n",
        "          if exc[i] > diametro:\n",
        "            diametro = exc[i]\n",
        "          if exc[i] < raio:\n",
        "            raio = exc[i]\n",
        "\n",
        "        print(\"Diametro: \", diametro)\n",
        "        print(\"Raio: \", raio)\n",
        "\n",
        "\n",
        "dist = None\n",
        "for i in range(len(matriz_adj)):\n",
        "    grafo = Grafo(matriz_adj, lista_adj)\n",
        "    grafo.busca_largura(i)\n",
        "    distancia_atual = grafo.distancia()\n",
        "    if dist is None:\n",
        "        dist = distancia_atual\n",
        "    else:\n",
        "        dist = np.maximum(dist, distancia_atual) #maxima distancia entre os vertices\n",
        "\n",
        "exc = []\n",
        "for i in range(len(matriz_adj)):\n",
        "  exc.append(np.max(dist[i]))"
      ],
      "metadata": {
        "id": "x1GxO81R9R71"
      },
      "execution_count": null,
      "outputs": []
    },
    {
      "cell_type": "code",
      "source": [
        "exc"
      ],
      "metadata": {
        "colab": {
          "base_uri": "https://localhost:8080/"
        },
        "id": "JsmVz2X0n5o2",
        "outputId": "a7fd6188-c474-4b01-d91e-10e84ba95657"
      },
      "execution_count": null,
      "outputs": [
        {
          "output_type": "execute_result",
          "data": {
            "text/plain": [
              "[2, 2, 2, 2, 2, 2, 2, 2, 2, 2]"
            ]
          },
          "metadata": {},
          "execution_count": 9
        }
      ]
    },
    {
      "cell_type": "code",
      "source": [
        "diametro_raio(exc)\n",
        "print(dist)"
      ],
      "metadata": {
        "colab": {
          "base_uri": "https://localhost:8080/"
        },
        "id": "DjaaniBsnV1U",
        "outputId": "5e38f520-9488-4840-d1bf-a4ec3f01770b"
      },
      "execution_count": null,
      "outputs": [
        {
          "output_type": "stream",
          "name": "stdout",
          "text": [
            "Diametro:  2\n",
            "Raio:  2\n",
            "[[0 1 1 2 2 2 2 1 1 1]\n",
            " [1 0 1 2 2 2 1 2 2 1]\n",
            " [1 1 0 2 1 1 1 1 1 2]\n",
            " [2 2 2 0 2 1 2 1 2 1]\n",
            " [2 2 1 2 0 1 2 1 1 2]\n",
            " [2 2 1 1 1 0 1 2 1 2]\n",
            " [2 1 1 2 2 1 0 2 1 1]\n",
            " [1 2 1 1 1 2 2 0 1 1]\n",
            " [1 2 1 2 1 1 1 1 0 1]\n",
            " [1 1 2 1 2 2 1 1 1 0]]\n"
          ]
        }
      ]
    },
    {
      "cell_type": "code",
      "source": [
        "#Somar todas as distâncias entre os vértices\n",
        "soma_distancias = np.sum(dist)\n",
        "\n",
        "# Dividir a soma pelo número total de pares de vértices\n",
        "# Como a diagonal da matriz de distâncias é 0, tem que subtrair a quantidade de vértices (para desconsiderar a diagonal).\n",
        "n = len(matriz_adj)\n",
        "distancia_media = soma_distancias / (n * (n - 1)) # não tem /2 pois a matriz de distancias considera A pra B e B pra A quando somo tudo\n",
        "\n",
        "print(\"Distância Média: \", distancia_media)"
      ],
      "metadata": {
        "colab": {
          "base_uri": "https://localhost:8080/"
        },
        "id": "LnqKEWnWqi4A",
        "outputId": "65863617-618b-49fb-a4e7-064db9f51091"
      },
      "execution_count": null,
      "outputs": [
        {
          "output_type": "stream",
          "name": "stdout",
          "text": [
            "Distância Média:  1.4222222222222223\n"
          ]
        }
      ]
    }
  ]
}